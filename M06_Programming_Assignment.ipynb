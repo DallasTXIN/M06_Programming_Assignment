{
 "cells": [
  {
   "cell_type": "code",
   "execution_count": null,
   "id": "e44b2a02",
   "metadata": {},
   "outputs": [],
   "source": [
    "#Dallas Lawson\n",
    "#13.1 To 13.3\n",
    "#Current Date To today.txt\n",
    "\n",
    "#13.1 - Write the current date as a string to the text file today.txt.\n",
    "from datetime import date\n",
    "import datetime\n",
    "now = date.today()\n",
    "now_str = now.isoformat()\n",
    "with open('today.txt', 'wt') as output:\n",
    "    print(now_str, file=output)\n",
    "\n",
    "#13.2 - Read the text file today.txt into the string today_string.\n",
    "with open('today.txt', 'rt') as input:\n",
    "    today_string = input.read()\n",
    "\n",
    "today_string\n",
    "\n",
    "#13.3 - Parse the date from today_string.\n",
    "fmt = '%Y-%m-%d\\n'\n",
    "datetime.strptime(today_string, fmt)\n",
    "datetime.datetime(2023, 3, 6)"
   ]
  },
  {
   "cell_type": "code",
   "execution_count": null,
   "id": "d1e84d18",
   "metadata": {},
   "outputs": [],
   "source": [
    "#Dallas Lawson\n",
    "#15.1\n",
    "#Use multiprocessing to create three separate processes.\n",
    "#Make each one wait a random number of seconds between zero and one, print the current time, and then exit,\n",
    "\n",
    "import multiprocessing\n",
    "\n",
    "def now(seconds):\n",
    "    from datetime import datetime\n",
    "    from time import sleep\n",
    "    sleep(seconds)\n",
    "    print('wait', seconds, 'seconds, time is', datetime.utcnow())\n",
    "    \n",
    "if __name__ == '__main__':\n",
    "    import random\n",
    "    for n in range(3):\n",
    "        seconds = random.random()\n",
    "        proc = multiprocessing.Process(target=now, args=(seconds,))\n",
    "        proc.start()"
   ]
  }
 ],
 "metadata": {
  "kernelspec": {
   "display_name": "Python 3 (ipykernel)",
   "language": "python",
   "name": "python3"
  },
  "language_info": {
   "codemirror_mode": {
    "name": "ipython",
    "version": 3
   },
   "file_extension": ".py",
   "mimetype": "text/x-python",
   "name": "python",
   "nbconvert_exporter": "python",
   "pygments_lexer": "ipython3",
   "version": "3.9.13"
  }
 },
 "nbformat": 4,
 "nbformat_minor": 5
}
